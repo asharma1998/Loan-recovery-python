{
 "cells": [
  {
   "cell_type": "code",
   "execution_count": 19,
   "id": "e1f41a2b",
   "metadata": {},
   "outputs": [],
   "source": [
    "import pandas as pd\n",
    "import numpy as np\n",
    "import seaborn as sns"
   ]
  },
  {
   "cell_type": "code",
   "execution_count": 451,
   "id": "b1637b31",
   "metadata": {},
   "outputs": [],
   "source": [
    "from sklearn.model_selection import train_test_split\n",
    "from sklearn.linear_model import LinearRegression\n",
    "from sklearn.metrics import mean_absolute_error\n",
    "from sklearn.metrics import mean_squared_error\n",
    "from sklearn.preprocessing import LabelEncoder, StandardScaler\n"
   ]
  },
  {
   "cell_type": "code",
   "execution_count": 801,
   "id": "9786cef2",
   "metadata": {},
   "outputs": [],
   "source": [
    "input = pd.read_csv(r'inputdata.csv')"
   ]
  },
  {
   "cell_type": "code",
   "execution_count": 802,
   "id": "c8142c8a",
   "metadata": {},
   "outputs": [
    {
     "data": {
      "text/plain": [
       "masked_acct                                0\n",
       "RecoveryPctBalanceAtDefaultRatioMACO12     0\n",
       "Vintage                                    0\n",
       "ChargeOffMonthKey                          0\n",
       "ChargeOffMOB                               0\n",
       "                                          ..\n",
       "NumPriorCrescentApplicationsLast60Days     0\n",
       "NumPriorCrescentApplicationsLast90Days     0\n",
       "NumPriorCrescentApplicationsLast180Days    0\n",
       "JDPUVIDiffCOFromOrig                       0\n",
       "MoodysUVIDiffCOFromOrig                    0\n",
       "Length: 89, dtype: int64"
      ]
     },
     "execution_count": 802,
     "metadata": {},
     "output_type": "execute_result"
    }
   ],
   "source": [
    "input.isnull().sum()"
   ]
  },
  {
   "cell_type": "code",
   "execution_count": 803,
   "id": "d276b45b",
   "metadata": {},
   "outputs": [],
   "source": [
    "input['score'] = input['RecoveryPctBalanceAtDefaultRatioMACO12']\n",
    "input.drop('RecoveryPctBalanceAtDefaultRatioMACO12', axis = 1, inplace = True)"
   ]
  },
  {
   "cell_type": "code",
   "execution_count": 804,
   "id": "c307725f",
   "metadata": {},
   "outputs": [],
   "source": [
    "input['classifier_score'] = np.where((input.score >= 0) & (input.score <0.2), 0 ,np.where((input.score >= 0.2) & (input.score <0.4), 1 , np.where((input.score >= 0.4) & (input.score <0.6), 2 ,np.where((input.score >= 0.6) & (input.score <0.8), 3 , np.where((input.score >= 0.8) & (input.score <=1), 4 , 5)))) )"
   ]
  },
  {
   "cell_type": "code",
   "execution_count": 805,
   "id": "cbff947f",
   "metadata": {},
   "outputs": [],
   "source": [
    "score = input[\"score\"]\n",
    "input.drop(\"score\", inplace = True, axis = 1)"
   ]
  },
  {
   "cell_type": "code",
   "execution_count": 806,
   "id": "35a75869",
   "metadata": {},
   "outputs": [],
   "source": [
    "input_object = input.loc[:,input.dtypes == object]\n",
    "input_number = input.loc[:,input.dtypes != object]"
   ]
  },
  {
   "cell_type": "code",
   "execution_count": 807,
   "id": "09570cbe",
   "metadata": {},
   "outputs": [],
   "source": [
    "input_number = input_number.apply(lambda x: x.fillna(x.mean()))"
   ]
  },
  {
   "cell_type": "code",
   "execution_count": 808,
   "id": "6ab1b270",
   "metadata": {},
   "outputs": [],
   "source": [
    "input_object = input_object.apply(lambda x: x.fillna('new'))"
   ]
  },
  {
   "cell_type": "code",
   "execution_count": 809,
   "id": "5d7cd734",
   "metadata": {},
   "outputs": [],
   "source": [
    "le = LabelEncoder()\n",
    "input_object = input_object.apply(lambda x: le.fit_transform(x))\n"
   ]
  },
  {
   "cell_type": "code",
   "execution_count": 810,
   "id": "eadc1cd8",
   "metadata": {},
   "outputs": [],
   "source": [
    "input_new = pd.concat([input_object, input_number], axis = 1)"
   ]
  },
  {
   "cell_type": "markdown",
   "id": "84a69c32",
   "metadata": {},
   "source": [
    "# Removing Constant Columns"
   ]
  },
  {
   "cell_type": "code",
   "execution_count": 811,
   "id": "d1c60855",
   "metadata": {},
   "outputs": [],
   "source": [
    "from sklearn.feature_selection import VarianceThreshold\n",
    "feature = VarianceThreshold(threshold=0)\n",
    "feature.fit(input_new)\n",
    "feature.get_support().sum()\n",
    "\n",
    "features_to_keep = input_new.columns[feature.get_support()]\n",
    "\n",
    "input_new = feature.transform(input_new)\n",
    "input_new = pd.DataFrame(input_new)\n",
    "input_new.columns = features_to_keep\n"
   ]
  },
  {
   "cell_type": "markdown",
   "id": "37c5ae0f",
   "metadata": {},
   "source": [
    "# Removing Quassi Constant"
   ]
  },
  {
   "cell_type": "code",
   "execution_count": 812,
   "id": "82a9b32b",
   "metadata": {},
   "outputs": [],
   "source": [
    "feature1 = VarianceThreshold(0.01)\n",
    "feature1.fit(input_new)\n",
    "feature1.get_support().sum()\n",
    "\n",
    "feature1_to_keep = input_new.columns[feature1.get_support()]\n",
    "\n",
    "input_new = feature1.transform(input_new)\n",
    "input_new = pd.DataFrame(input_new)\n",
    "input_new.columns = feature1_to_keep"
   ]
  },
  {
   "cell_type": "markdown",
   "id": "ace289aa",
   "metadata": {},
   "source": [
    "# Checking Duplicate Features"
   ]
  },
  {
   "cell_type": "code",
   "execution_count": 813,
   "id": "89f793fa",
   "metadata": {},
   "outputs": [
    {
     "name": "stdout",
     "output_type": "stream",
     "text": [
      "0\n"
     ]
    }
   ],
   "source": [
    "duplicated_feat = []\n",
    "for i in range(0, len(input_new.columns)):\n",
    "    if i % 10 == 0:  \n",
    "        pass\n",
    " \n",
    "    col_1 = input_new.columns[i]\n",
    " \n",
    "    for col_2 in input_new.columns[i + 1:]:\n",
    "        if input_new[col_1].equals(input_new[col_2]):\n",
    "            duplicated_feat.append(col_2)\n",
    "            \n",
    "print(len(duplicated_feat)) \n",
    "\n",
    "            \n"
   ]
  },
  {
   "cell_type": "markdown",
   "id": "e9ad14ad",
   "metadata": {},
   "source": [
    "# Removing Correlated Columns"
   ]
  },
  {
   "cell_type": "code",
   "execution_count": 814,
   "id": "fcd5008b",
   "metadata": {},
   "outputs": [
    {
     "name": "stdout",
     "output_type": "stream",
     "text": [
      "correlated features:  16\n"
     ]
    }
   ],
   "source": [
    "def correlation(dataset, threshold):\n",
    "\n",
    "    col_corr = set()  # Set of all the names of correlated columns\n",
    "\n",
    "    corr_matrix = dataset.corr()\n",
    "\n",
    "    for i in range(len(corr_matrix.columns)):\n",
    "\n",
    "        for j in range(i):\n",
    "\n",
    "            if abs(corr_matrix.iloc[i, j]) > threshold: # we are interested in absolute coeff value\n",
    "\n",
    "                colname = corr_matrix.columns[i]  # getting the name of column\n",
    "\n",
    "                col_corr.add(colname)\n",
    "\n",
    "    return col_corr\n",
    "\n",
    "\n",
    "corr_features = correlation(input_new, 0.95)\n",
    "print('correlated features: ', len(set(corr_features)))\n",
    "\n",
    "input_new.drop(labels=corr_features, axis=1, inplace=True)"
   ]
  },
  {
   "cell_type": "markdown",
   "id": "76d05d50",
   "metadata": {},
   "source": [
    "# Scaling Data"
   ]
  },
  {
   "cell_type": "code",
   "execution_count": 815,
   "id": "154c3887",
   "metadata": {},
   "outputs": [
    {
     "data": {
      "text/html": [
       "<div>\n",
       "<style scoped>\n",
       "    .dataframe tbody tr th:only-of-type {\n",
       "        vertical-align: middle;\n",
       "    }\n",
       "\n",
       "    .dataframe tbody tr th {\n",
       "        vertical-align: top;\n",
       "    }\n",
       "\n",
       "    .dataframe thead th {\n",
       "        text-align: right;\n",
       "    }\n",
       "</style>\n",
       "<table border=\"1\" class=\"dataframe\">\n",
       "  <thead>\n",
       "    <tr style=\"text-align: right;\">\n",
       "      <th></th>\n",
       "      <th>masked_acct</th>\n",
       "      <th>Loss_Date_150</th>\n",
       "      <th>StateApplicant</th>\n",
       "      <th>VehicleMakeNADA</th>\n",
       "      <th>VehicleModelNADA</th>\n",
       "      <th>BackendType</th>\n",
       "      <th>EmploymentJobTypeApplicant</th>\n",
       "      <th>Vintage</th>\n",
       "      <th>ChargeOffMOB</th>\n",
       "      <th>BalanceAtDefault</th>\n",
       "      <th>...</th>\n",
       "      <th>NumExceptionALL</th>\n",
       "      <th>NumExceptionPTI</th>\n",
       "      <th>NumExceptionDTI</th>\n",
       "      <th>NumPriorCrescentApplications</th>\n",
       "      <th>NumPriorCrescentApplicationsLast30Days</th>\n",
       "      <th>NumPriorCrescentApplicationsLast60Days</th>\n",
       "      <th>NumPriorCrescentApplicationsLast180Days</th>\n",
       "      <th>JDPUVIDiffCOFromOrig</th>\n",
       "      <th>MoodysUVIDiffCOFromOrig</th>\n",
       "      <th>classifier_score</th>\n",
       "    </tr>\n",
       "  </thead>\n",
       "  <tbody>\n",
       "    <tr>\n",
       "      <th>0</th>\n",
       "      <td>0.0</td>\n",
       "      <td>968.0</td>\n",
       "      <td>22.0</td>\n",
       "      <td>11.0</td>\n",
       "      <td>79.0</td>\n",
       "      <td>3.0</td>\n",
       "      <td>0.0</td>\n",
       "      <td>201708.0</td>\n",
       "      <td>15.0</td>\n",
       "      <td>9914.12</td>\n",
       "      <td>...</td>\n",
       "      <td>1.0</td>\n",
       "      <td>0.0</td>\n",
       "      <td>0.0</td>\n",
       "      <td>0.0</td>\n",
       "      <td>0.0</td>\n",
       "      <td>0.0</td>\n",
       "      <td>0.0</td>\n",
       "      <td>5.937</td>\n",
       "      <td>2.39</td>\n",
       "      <td>0.0</td>\n",
       "    </tr>\n",
       "    <tr>\n",
       "      <th>1</th>\n",
       "      <td>1.0</td>\n",
       "      <td>979.0</td>\n",
       "      <td>9.0</td>\n",
       "      <td>24.0</td>\n",
       "      <td>38.0</td>\n",
       "      <td>0.0</td>\n",
       "      <td>0.0</td>\n",
       "      <td>201803.0</td>\n",
       "      <td>8.0</td>\n",
       "      <td>22211.39</td>\n",
       "      <td>...</td>\n",
       "      <td>0.0</td>\n",
       "      <td>0.0</td>\n",
       "      <td>0.0</td>\n",
       "      <td>0.0</td>\n",
       "      <td>0.0</td>\n",
       "      <td>0.0</td>\n",
       "      <td>0.0</td>\n",
       "      <td>5.258</td>\n",
       "      <td>1.49</td>\n",
       "      <td>2.0</td>\n",
       "    </tr>\n",
       "    <tr>\n",
       "      <th>2</th>\n",
       "      <td>2.0</td>\n",
       "      <td>603.0</td>\n",
       "      <td>8.0</td>\n",
       "      <td>28.0</td>\n",
       "      <td>16.0</td>\n",
       "      <td>2.0</td>\n",
       "      <td>0.0</td>\n",
       "      <td>201501.0</td>\n",
       "      <td>27.0</td>\n",
       "      <td>8484.37</td>\n",
       "      <td>...</td>\n",
       "      <td>0.0</td>\n",
       "      <td>0.0</td>\n",
       "      <td>0.0</td>\n",
       "      <td>0.0</td>\n",
       "      <td>0.0</td>\n",
       "      <td>0.0</td>\n",
       "      <td>0.0</td>\n",
       "      <td>-10.699</td>\n",
       "      <td>-7.92</td>\n",
       "      <td>0.0</td>\n",
       "    </tr>\n",
       "    <tr>\n",
       "      <th>3</th>\n",
       "      <td>3.0</td>\n",
       "      <td>472.0</td>\n",
       "      <td>27.0</td>\n",
       "      <td>20.0</td>\n",
       "      <td>175.0</td>\n",
       "      <td>0.0</td>\n",
       "      <td>0.0</td>\n",
       "      <td>201505.0</td>\n",
       "      <td>18.0</td>\n",
       "      <td>15470.65</td>\n",
       "      <td>...</td>\n",
       "      <td>1.0</td>\n",
       "      <td>0.0</td>\n",
       "      <td>0.0</td>\n",
       "      <td>1.0</td>\n",
       "      <td>0.0</td>\n",
       "      <td>1.0</td>\n",
       "      <td>1.0</td>\n",
       "      <td>-7.571</td>\n",
       "      <td>-7.78</td>\n",
       "      <td>1.0</td>\n",
       "    </tr>\n",
       "    <tr>\n",
       "      <th>4</th>\n",
       "      <td>4.0</td>\n",
       "      <td>907.0</td>\n",
       "      <td>25.0</td>\n",
       "      <td>20.0</td>\n",
       "      <td>156.0</td>\n",
       "      <td>0.0</td>\n",
       "      <td>3.0</td>\n",
       "      <td>201711.0</td>\n",
       "      <td>8.0</td>\n",
       "      <td>14905.78</td>\n",
       "      <td>...</td>\n",
       "      <td>0.0</td>\n",
       "      <td>0.0</td>\n",
       "      <td>0.0</td>\n",
       "      <td>1.0</td>\n",
       "      <td>0.0</td>\n",
       "      <td>0.0</td>\n",
       "      <td>1.0</td>\n",
       "      <td>0.729</td>\n",
       "      <td>0.56</td>\n",
       "      <td>2.0</td>\n",
       "    </tr>\n",
       "    <tr>\n",
       "      <th>...</th>\n",
       "      <td>...</td>\n",
       "      <td>...</td>\n",
       "      <td>...</td>\n",
       "      <td>...</td>\n",
       "      <td>...</td>\n",
       "      <td>...</td>\n",
       "      <td>...</td>\n",
       "      <td>...</td>\n",
       "      <td>...</td>\n",
       "      <td>...</td>\n",
       "      <td>...</td>\n",
       "      <td>...</td>\n",
       "      <td>...</td>\n",
       "      <td>...</td>\n",
       "      <td>...</td>\n",
       "      <td>...</td>\n",
       "      <td>...</td>\n",
       "      <td>...</td>\n",
       "      <td>...</td>\n",
       "      <td>...</td>\n",
       "      <td>...</td>\n",
       "    </tr>\n",
       "    <tr>\n",
       "      <th>13713</th>\n",
       "      <td>13713.0</td>\n",
       "      <td>926.0</td>\n",
       "      <td>8.0</td>\n",
       "      <td>37.0</td>\n",
       "      <td>213.0</td>\n",
       "      <td>2.0</td>\n",
       "      <td>4.0</td>\n",
       "      <td>201604.0</td>\n",
       "      <td>28.0</td>\n",
       "      <td>9044.62</td>\n",
       "      <td>...</td>\n",
       "      <td>1.0</td>\n",
       "      <td>0.0</td>\n",
       "      <td>0.0</td>\n",
       "      <td>0.0</td>\n",
       "      <td>0.0</td>\n",
       "      <td>0.0</td>\n",
       "      <td>0.0</td>\n",
       "      <td>0.302</td>\n",
       "      <td>-7.49</td>\n",
       "      <td>0.0</td>\n",
       "    </tr>\n",
       "    <tr>\n",
       "      <th>13714</th>\n",
       "      <td>13714.0</td>\n",
       "      <td>701.0</td>\n",
       "      <td>43.0</td>\n",
       "      <td>37.0</td>\n",
       "      <td>213.0</td>\n",
       "      <td>2.0</td>\n",
       "      <td>0.0</td>\n",
       "      <td>201701.0</td>\n",
       "      <td>8.0</td>\n",
       "      <td>13903.61</td>\n",
       "      <td>...</td>\n",
       "      <td>1.0</td>\n",
       "      <td>0.0</td>\n",
       "      <td>0.0</td>\n",
       "      <td>0.0</td>\n",
       "      <td>0.0</td>\n",
       "      <td>0.0</td>\n",
       "      <td>0.0</td>\n",
       "      <td>0.066</td>\n",
       "      <td>-2.81</td>\n",
       "      <td>1.0</td>\n",
       "    </tr>\n",
       "    <tr>\n",
       "      <th>13715</th>\n",
       "      <td>13715.0</td>\n",
       "      <td>829.0</td>\n",
       "      <td>0.0</td>\n",
       "      <td>34.0</td>\n",
       "      <td>42.0</td>\n",
       "      <td>3.0</td>\n",
       "      <td>0.0</td>\n",
       "      <td>201607.0</td>\n",
       "      <td>20.0</td>\n",
       "      <td>16696.80</td>\n",
       "      <td>...</td>\n",
       "      <td>0.0</td>\n",
       "      <td>0.0</td>\n",
       "      <td>0.0</td>\n",
       "      <td>0.0</td>\n",
       "      <td>0.0</td>\n",
       "      <td>0.0</td>\n",
       "      <td>0.0</td>\n",
       "      <td>-4.034</td>\n",
       "      <td>-5.94</td>\n",
       "      <td>2.0</td>\n",
       "    </tr>\n",
       "    <tr>\n",
       "      <th>13716</th>\n",
       "      <td>13716.0</td>\n",
       "      <td>494.0</td>\n",
       "      <td>38.0</td>\n",
       "      <td>20.0</td>\n",
       "      <td>174.0</td>\n",
       "      <td>0.0</td>\n",
       "      <td>0.0</td>\n",
       "      <td>201505.0</td>\n",
       "      <td>19.0</td>\n",
       "      <td>22169.91</td>\n",
       "      <td>...</td>\n",
       "      <td>0.0</td>\n",
       "      <td>0.0</td>\n",
       "      <td>0.0</td>\n",
       "      <td>1.0</td>\n",
       "      <td>1.0</td>\n",
       "      <td>1.0</td>\n",
       "      <td>1.0</td>\n",
       "      <td>-8.021</td>\n",
       "      <td>-8.55</td>\n",
       "      <td>2.0</td>\n",
       "    </tr>\n",
       "    <tr>\n",
       "      <th>13717</th>\n",
       "      <td>13717.0</td>\n",
       "      <td>53.0</td>\n",
       "      <td>31.0</td>\n",
       "      <td>37.0</td>\n",
       "      <td>213.0</td>\n",
       "      <td>3.0</td>\n",
       "      <td>0.0</td>\n",
       "      <td>201501.0</td>\n",
       "      <td>7.0</td>\n",
       "      <td>11431.34</td>\n",
       "      <td>...</td>\n",
       "      <td>0.0</td>\n",
       "      <td>0.0</td>\n",
       "      <td>0.0</td>\n",
       "      <td>0.0</td>\n",
       "      <td>0.0</td>\n",
       "      <td>0.0</td>\n",
       "      <td>0.0</td>\n",
       "      <td>-0.948</td>\n",
       "      <td>2.80</td>\n",
       "      <td>3.0</td>\n",
       "    </tr>\n",
       "  </tbody>\n",
       "</table>\n",
       "<p>13718 rows × 60 columns</p>\n",
       "</div>"
      ],
      "text/plain": [
       "       masked_acct  Loss_Date_150  StateApplicant  VehicleMakeNADA  \\\n",
       "0              0.0          968.0            22.0             11.0   \n",
       "1              1.0          979.0             9.0             24.0   \n",
       "2              2.0          603.0             8.0             28.0   \n",
       "3              3.0          472.0            27.0             20.0   \n",
       "4              4.0          907.0            25.0             20.0   \n",
       "...            ...            ...             ...              ...   \n",
       "13713      13713.0          926.0             8.0             37.0   \n",
       "13714      13714.0          701.0            43.0             37.0   \n",
       "13715      13715.0          829.0             0.0             34.0   \n",
       "13716      13716.0          494.0            38.0             20.0   \n",
       "13717      13717.0           53.0            31.0             37.0   \n",
       "\n",
       "       VehicleModelNADA  BackendType  EmploymentJobTypeApplicant   Vintage  \\\n",
       "0                  79.0          3.0                         0.0  201708.0   \n",
       "1                  38.0          0.0                         0.0  201803.0   \n",
       "2                  16.0          2.0                         0.0  201501.0   \n",
       "3                 175.0          0.0                         0.0  201505.0   \n",
       "4                 156.0          0.0                         3.0  201711.0   \n",
       "...                 ...          ...                         ...       ...   \n",
       "13713             213.0          2.0                         4.0  201604.0   \n",
       "13714             213.0          2.0                         0.0  201701.0   \n",
       "13715              42.0          3.0                         0.0  201607.0   \n",
       "13716             174.0          0.0                         0.0  201505.0   \n",
       "13717             213.0          3.0                         0.0  201501.0   \n",
       "\n",
       "       ChargeOffMOB  BalanceAtDefault  ...  NumExceptionALL  NumExceptionPTI  \\\n",
       "0              15.0           9914.12  ...              1.0              0.0   \n",
       "1               8.0          22211.39  ...              0.0              0.0   \n",
       "2              27.0           8484.37  ...              0.0              0.0   \n",
       "3              18.0          15470.65  ...              1.0              0.0   \n",
       "4               8.0          14905.78  ...              0.0              0.0   \n",
       "...             ...               ...  ...              ...              ...   \n",
       "13713          28.0           9044.62  ...              1.0              0.0   \n",
       "13714           8.0          13903.61  ...              1.0              0.0   \n",
       "13715          20.0          16696.80  ...              0.0              0.0   \n",
       "13716          19.0          22169.91  ...              0.0              0.0   \n",
       "13717           7.0          11431.34  ...              0.0              0.0   \n",
       "\n",
       "       NumExceptionDTI  NumPriorCrescentApplications  \\\n",
       "0                  0.0                           0.0   \n",
       "1                  0.0                           0.0   \n",
       "2                  0.0                           0.0   \n",
       "3                  0.0                           1.0   \n",
       "4                  0.0                           1.0   \n",
       "...                ...                           ...   \n",
       "13713              0.0                           0.0   \n",
       "13714              0.0                           0.0   \n",
       "13715              0.0                           0.0   \n",
       "13716              0.0                           1.0   \n",
       "13717              0.0                           0.0   \n",
       "\n",
       "       NumPriorCrescentApplicationsLast30Days  \\\n",
       "0                                         0.0   \n",
       "1                                         0.0   \n",
       "2                                         0.0   \n",
       "3                                         0.0   \n",
       "4                                         0.0   \n",
       "...                                       ...   \n",
       "13713                                     0.0   \n",
       "13714                                     0.0   \n",
       "13715                                     0.0   \n",
       "13716                                     1.0   \n",
       "13717                                     0.0   \n",
       "\n",
       "       NumPriorCrescentApplicationsLast60Days  \\\n",
       "0                                         0.0   \n",
       "1                                         0.0   \n",
       "2                                         0.0   \n",
       "3                                         1.0   \n",
       "4                                         0.0   \n",
       "...                                       ...   \n",
       "13713                                     0.0   \n",
       "13714                                     0.0   \n",
       "13715                                     0.0   \n",
       "13716                                     1.0   \n",
       "13717                                     0.0   \n",
       "\n",
       "       NumPriorCrescentApplicationsLast180Days  JDPUVIDiffCOFromOrig  \\\n",
       "0                                          0.0                 5.937   \n",
       "1                                          0.0                 5.258   \n",
       "2                                          0.0               -10.699   \n",
       "3                                          1.0                -7.571   \n",
       "4                                          1.0                 0.729   \n",
       "...                                        ...                   ...   \n",
       "13713                                      0.0                 0.302   \n",
       "13714                                      0.0                 0.066   \n",
       "13715                                      0.0                -4.034   \n",
       "13716                                      1.0                -8.021   \n",
       "13717                                      0.0                -0.948   \n",
       "\n",
       "       MoodysUVIDiffCOFromOrig  classifier_score  \n",
       "0                         2.39               0.0  \n",
       "1                         1.49               2.0  \n",
       "2                        -7.92               0.0  \n",
       "3                        -7.78               1.0  \n",
       "4                         0.56               2.0  \n",
       "...                        ...               ...  \n",
       "13713                    -7.49               0.0  \n",
       "13714                    -2.81               1.0  \n",
       "13715                    -5.94               2.0  \n",
       "13716                    -8.55               2.0  \n",
       "13717                     2.80               3.0  \n",
       "\n",
       "[13718 rows x 60 columns]"
      ]
     },
     "execution_count": 815,
     "metadata": {},
     "output_type": "execute_result"
    }
   ],
   "source": [
    "input_new"
   ]
  },
  {
   "cell_type": "code",
   "execution_count": 816,
   "id": "614de4e5",
   "metadata": {},
   "outputs": [],
   "source": [
    "scaler = StandardScaler()\n",
    "columns = input_new.columns\n",
    "input_new = scaler.fit_transform(input_new)\n",
    "input_new = pd.DataFrame(input_new)\n",
    "input_new.columns = columns"
   ]
  },
  {
   "cell_type": "markdown",
   "id": "8be1b06f",
   "metadata": {},
   "source": [
    "# Anova Testing"
   ]
  },
  {
   "cell_type": "code",
   "execution_count": 817,
   "id": "527028e0",
   "metadata": {},
   "outputs": [],
   "source": [
    "# Feature Selection based on importance\n",
    "from sklearn.feature_selection import f_regression\n",
    "F_values, p_values  = f_regression(  input_new, score )"
   ]
  },
  {
   "cell_type": "code",
   "execution_count": 818,
   "id": "b1dae09f",
   "metadata": {
    "scrolled": true
   },
   "outputs": [],
   "source": [
    "import itertools\n",
    "f_reg_results = [(i, v, z) for i, v, z in itertools.zip_longest(input_new.columns, F_values,  ['%.3f' % p for p in p_values])]\n",
    "f_reg_results=pd.DataFrame(f_reg_results, columns=['Variable','F_Value', 'P_Value'])"
   ]
  },
  {
   "cell_type": "code",
   "execution_count": 819,
   "id": "2fa7a36e",
   "metadata": {},
   "outputs": [],
   "source": [
    "f_reg_results.P_Value = pd.to_numeric(f_reg_results.P_Value)\n",
    "f_reg_results_new = f_reg_results[f_reg_results.P_Value<=0.2]\n",
    "list_vars = list(f_reg_results_new.Variable)\n",
    "input_new = input_new[list_vars]\n"
   ]
  },
  {
   "cell_type": "markdown",
   "id": "a37c591e",
   "metadata": {},
   "source": [
    "# PCA"
   ]
  },
  {
   "cell_type": "code",
   "execution_count": 820,
   "id": "a0b0d7a7",
   "metadata": {},
   "outputs": [
    {
     "name": "stdout",
     "output_type": "stream",
     "text": [
      "Score with n_components 45: 0.20516313913626277\n"
     ]
    }
   ],
   "source": [
    "\n",
    "from sklearn.decomposition import PCA \n",
    "\n",
    "\n",
    "Result = []\n",
    "No_var = []\n",
    "\n",
    "\n",
    "for i in np.arange(1,len(input_new.iloc[:,:-1].columns)):\n",
    "    \n",
    "\n",
    "    # Splitting the dataset into train and test \n",
    "    X_train, X_test, y_train, y_test = train_test_split(input_new.iloc[:,:-1], score, test_size = 0.2, random_state = 0)  \n",
    "    \n",
    "    #applying PCA (here n_components is the no of components we want to have)\n",
    "    pca = PCA(n_components = i) \n",
    "    X_train = pca.fit_transform(X_train) #fit and transform on training data\n",
    "    X_test = pca.transform(X_test)  #Transforming the test data\n",
    "    \n",
    "    # Building Linear Regression Model \n",
    "    classifier = LinearRegression() \n",
    "    classifier.fit(X_train, y_train)\n",
    "    y_pred = classifier.predict(X_test) \n",
    "    \n",
    "    #calculating  R-squared \n",
    "    t  = mean_squared_error(y_test,y_pred)**(1/2)\n",
    "    \n",
    "    Result.append(t)\n",
    "    No_var.append(i)\n",
    "    \n",
    "print(\"Score with n_components {}:\".format(Result.index(min(Result))),min(Result))"
   ]
  },
  {
   "cell_type": "markdown",
   "id": "1255d17d",
   "metadata": {},
   "source": [
    "# RFE"
   ]
  },
  {
   "cell_type": "code",
   "execution_count": 821,
   "id": "2754f0f7",
   "metadata": {},
   "outputs": [],
   "source": [
    "# Importing the packages for running RFE\n",
    "from sklearn.feature_selection import RFE\n",
    "#from sklearn.linear_model import LinearRegression\n",
    "\n",
    "import itertools\n",
    "\n",
    "# Fitting a Linear Regression Model for running RFE\n",
    "lm = LinearRegression()\n",
    "\n",
    "# creating the RFE model and selecting attributes\n",
    "rfe = RFE(lm, n_features_to_select= Result.index(min(Result)))\n",
    "rfe = rfe.fit(input_new, score)\n",
    "\n",
    "RFE_features=input_new.columns[rfe.get_support()]\n",
    "input_new = input_new[RFE_features]\n"
   ]
  },
  {
   "cell_type": "markdown",
   "id": "dbf6f2ed",
   "metadata": {},
   "source": [
    "# Boosting Using KFold"
   ]
  },
  {
   "cell_type": "code",
   "execution_count": 824,
   "id": "0adda22a",
   "metadata": {},
   "outputs": [
    {
     "name": "stdout",
     "output_type": "stream",
     "text": [
      "[0]\tvalidation_0-rmse:0.22330\tvalidation_1-rmse:0.21697\n",
      "[314]\tvalidation_0-rmse:0.04289\tvalidation_1-rmse:0.05292\n",
      "err_xgb:  0.05256450035551324\n",
      "[0]\tvalidation_0-rmse:0.22317\tvalidation_1-rmse:0.21873\n",
      "[284]\tvalidation_0-rmse:0.04402\tvalidation_1-rmse:0.05412\n",
      "err_xgb:  0.05355553717989695\n",
      "[0]\tvalidation_0-rmse:0.22286\tvalidation_1-rmse:0.22290\n",
      "[269]\tvalidation_0-rmse:0.04405\tvalidation_1-rmse:0.05506\n",
      "err_xgb:  0.0544060395197897\n",
      "[0]\tvalidation_0-rmse:0.22306\tvalidation_1-rmse:0.22034\n",
      "[308]\tvalidation_0-rmse:0.04314\tvalidation_1-rmse:0.05409\n",
      "err_xgb:  0.053591692275630945\n",
      "[0]\tvalidation_0-rmse:0.22323\tvalidation_1-rmse:0.21796\n",
      "[271]\tvalidation_0-rmse:0.04418\tvalidation_1-rmse:0.05462\n",
      "err_xgb:  0.05382365249413944\n",
      "[0]\tvalidation_0-rmse:0.22303\tvalidation_1-rmse:0.22093\n",
      "[267]\tvalidation_0-rmse:0.04408\tvalidation_1-rmse:0.05394\n",
      "err_xgb:  0.05372968078874708\n",
      "[0]\tvalidation_0-rmse:0.22320\tvalidation_1-rmse:0.21819\n",
      "[271]\tvalidation_0-rmse:0.04389\tvalidation_1-rmse:0.05648\n",
      "err_xgb:  0.055645134365358444\n",
      "[0]\tvalidation_0-rmse:0.22198\tvalidation_1-rmse:0.23510\n",
      "[271]\tvalidation_0-rmse:0.04385\tvalidation_1-rmse:0.05456\n",
      "err_xgb:  0.053909107256576015\n",
      "[0]\tvalidation_0-rmse:0.22233\tvalidation_1-rmse:0.23044\n",
      "[272]\tvalidation_0-rmse:0.04397\tvalidation_1-rmse:0.05471\n",
      "err_xgb:  0.054583555855902056\n",
      "[0]\tvalidation_0-rmse:0.22254\tvalidation_1-rmse:0.22773\n",
      "[336]\tvalidation_0-rmse:0.04222\tvalidation_1-rmse:0.05194\n",
      "err_xgb:  0.0517143435226098\n",
      "[0]\tvalidation_0-rmse:0.22293\tvalidation_1-rmse:0.22212\n",
      "[264]\tvalidation_0-rmse:0.04378\tvalidation_1-rmse:0.05595\n",
      "err_xgb:  0.05543057622540127\n",
      "[0]\tvalidation_0-rmse:0.22274\tvalidation_1-rmse:0.22480\n",
      "[286]\tvalidation_0-rmse:0.04408\tvalidation_1-rmse:0.05548\n",
      "err_xgb:  0.054843392593033294\n",
      "[0]\tvalidation_0-rmse:0.22321\tvalidation_1-rmse:0.21810\n",
      "[314]\tvalidation_0-rmse:0.04316\tvalidation_1-rmse:0.05276\n",
      "err_xgb:  0.05245200730417889\n",
      "[0]\tvalidation_0-rmse:0.22246\tvalidation_1-rmse:0.22854\n",
      "[268]\tvalidation_0-rmse:0.04372\tvalidation_1-rmse:0.05559\n",
      "err_xgb:  0.05512404784062645\n",
      "[0]\tvalidation_0-rmse:0.22311\tvalidation_1-rmse:0.21959\n",
      "[267]\tvalidation_0-rmse:0.04364\tvalidation_1-rmse:0.05496\n",
      "err_xgb:  0.05449174052701977\n"
     ]
    }
   ],
   "source": [
    "from xgboost import XGBRegressor\n",
    "\n",
    "errxgb = []\n",
    "y_pred_tot_xgb = []\n",
    "\n",
    "from sklearn.model_selection import KFold,StratifiedKFold\n",
    "\n",
    "fold = KFold(n_splits=15)\n",
    "i = 1\n",
    "for train_index, test_index in fold.split(input_new,score):\n",
    "    x_train, x_val = input_new.iloc[train_index], input_new.iloc[test_index]\n",
    "    y_train, y_val = score[train_index], score[test_index]\n",
    "    m = XGBRegressor(booster='gbtree',\n",
    "                      max_depth=5,\n",
    "                      early_stopping_rounds=200,\n",
    "                      learning_rate=0.07,\n",
    "                      n_estimators=5000,\n",
    "                     eval_metric='rmse',\n",
    "                      random_state=1994)\n",
    "    m.fit(x_train, y_train,\n",
    "          eval_set=[(x_train,y_train),(x_val, y_val)],\n",
    "          verbose=2000)\n",
    "    pred_y = m.predict(x_val)\n",
    "    print(\"err_xgb: \",mean_squared_error(y_val,pred_y)**(1/2))\n",
    "    errxgb.append(mean_squared_error(y_val, pred_y)**(1/2))\n",
    "    pred_test = m.predict(input_new)\n",
    "    i = i + 1\n",
    "    y_pred_tot_xgb.append(pred_test.round(4))\n",
    "    "
   ]
  },
  {
   "cell_type": "markdown",
   "id": "7c701d60",
   "metadata": {},
   "source": [
    "# Final Output( Masked_Acct, Pred_Score, Features)\n"
   ]
  },
  {
   "cell_type": "code",
   "execution_count": 826,
   "id": "4af06432",
   "metadata": {},
   "outputs": [],
   "source": [
    "model_result = pd.DataFrame([input.masked_acct, pd.Series(y_pred_tot_xgb[errxgb.index(min(errxgb))])]).T\n",
    "model_result.columns = [\"masked_acct\", \"predicted_score\"]\n",
    "\n",
    "Final = pd.concat([model_result, input_new], axis = 1)\n",
    "Final.to_csv(r'Hackathon_Output_Score.csv')"
   ]
  },
  {
   "cell_type": "markdown",
   "id": "e8192644",
   "metadata": {},
   "source": [
    "# Pickle"
   ]
  },
  {
   "cell_type": "code",
   "execution_count": 827,
   "id": "119429eb",
   "metadata": {},
   "outputs": [],
   "source": [
    "import pickle\n",
    "\n",
    "with open('model_pkl', 'wb') as files:\n",
    "    pickle.dump(m, files)"
   ]
  },
  {
   "cell_type": "markdown",
   "id": "fbc4718a",
   "metadata": {},
   "source": [
    "# Selected Features"
   ]
  },
  {
   "cell_type": "code",
   "execution_count": 828,
   "id": "63e0df0e",
   "metadata": {},
   "outputs": [],
   "source": [
    "selected_features = pd.DataFrame(input_new.columns)\n",
    "selected_features.to_csv('selected_features.csv')"
   ]
  },
  {
   "cell_type": "code",
   "execution_count": null,
   "id": "3210bd70",
   "metadata": {},
   "outputs": [],
   "source": []
  }
 ],
 "metadata": {
  "kernelspec": {
   "display_name": "Python 3 (ipykernel)",
   "language": "python",
   "name": "python3"
  },
  "language_info": {
   "codemirror_mode": {
    "name": "ipython",
    "version": 3
   },
   "file_extension": ".py",
   "mimetype": "text/x-python",
   "name": "python",
   "nbconvert_exporter": "python",
   "pygments_lexer": "ipython3",
   "version": "3.9.12"
  }
 },
 "nbformat": 4,
 "nbformat_minor": 5
}
